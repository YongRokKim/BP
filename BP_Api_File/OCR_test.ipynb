{
 "cells": [
  {
   "cell_type": "code",
   "execution_count": 1,
   "metadata": {},
   "outputs": [
    {
     "name": "stdout",
     "output_type": "stream",
     "text": [
      "b'{\"version\":\"V2\",\"requestId\":\"d17c677a-be6f-4dc5-a189-60db68cc2d87\",\"timestamp\":1704172367748,\"images\":[{\"receipt\":{\"meta\":{\"estimatedLanguage\":\"ko\"},\"result\":{\"paymentInfo\":{\"date\":{\"text\":\"2023-12-29\",\"formatted\":{\"year\":\"2023\",\"month\":\"12\",\"day\":\"29\"},\"keyText\":\"[ \\xec\\x9d\\xbc\\xec\\x8b\\x9c\",\"confidenceScore\":0.44798,\"boundingPolys\":[{\"vertices\":[{\"x\":287.0,\"y\":427.0},{\"x\":445.0,\"y\":435.0},{\"x\":443.0,\"y\":461.0},{\"x\":286.0,\"y\":453.0}]}],\"maskingPolys\":[]},\"time\":{\"text\":\"12: 15:37\",\"formatted\":{\"hour\":\"12\",\"minute\":\"15\",\"second\":\"37\"},\"keyText\":\"\",\"confidenceScore\":0.45127,\"boundingPolys\":[{\"vertices\":[{\"x\":455.0,\"y\":441.0},{\"x\":496.0,\"y\":441.0},{\"x\":496.0,\"y\":462.0},{\"x\":455.0,\"y\":462.0}]},{\"vertices\":[{\"x\":494.0,\"y\":441.0},{\"x\":569.0,\"y\":445.0},{\"x\":568.0,\"y\":468.0},{\"x\":493.0,\"y\":465.0}]}]}},\"subResults\":[{\"items\":[{\"name\":{\"text\":\"\\xec\\xb0\\xb8\\xec\\xb9\\x98\\xea\\xb9\\x80\\xeb\\xb0\\xa5\",\"formatted\":{\"value\":\"\\xec\\xb0\\xb8\\xec\\xb9\\x98\\xea\\xb9\\x80\\xeb\\xb0\\xa5\"},\"keyText\":\"\",\"confidenceScore\":0.9599,\"boundingPolys\":[{\"vertices\":[{\"x\":114.0,\"y\":553.0},{\"x\":249.0,\"y\":553.0},{\"x\":249.0,\"y\":588.0},{\"x\":114.0,\"y\":588.0}]}],\"maskingPolys\":[]},\"code\":{\"text\":\"000005\",\"keyText\":\"\",\"confidenceScore\":0.91002,\"boundingPolys\":[{\"vertices\":[{\"x\":108.0,\"y\":590.0},{\"x\":219.0,\"y\":590.0},{\"x\":219.0,\"y\":620.0},{\"x\":108.0,\"y\":620.0}]}]},\"count\":{\"text\":\"1\",\"formatted\":{\"value\":\"1\"},\"keyText\":\"\",\"confidenceScore\":0.96334,\"boundingPolys\":[{\"vertices\":[{\"x\":580.0,\"y\":600.0},{\"x\":599.0,\"y\":600.0},{\"x\":599.0,\"y\":624.0},{\"x\":580.0,\"y\":624.0}]}]},\"price\":{\"price\":{\"text\":\"4,000\",\"formatted\":{\"value\":\"4000\"},\"keyText\":\"\",\"confidenceScore\":0.94885,\"boundingPolys\":[{\"vertices\":[{\"x\":675.0,\"y\":600.0},{\"x\":749.0,\"y\":599.0},{\"x\":750.0,\"y\":624.0},{\"x\":675.0,\"y\":626.0}]}]},\"unitPrice\":{\"text\":\"4,000\",\"formatted\":{\"value\":\"4000\"},\"keyText\":\"\",\"confidenceScore\":0.96934,\"boundingPolys\":[{\"vertices\":[{\"x\":447.0,\"y\":599.0},{\"x\":528.0,\"y\":599.0},{\"x\":528.0,\"y\":626.0},{\"x\":447.0,\"y\":626.0}]}]}}},{\"name\":{\"text\":\"\\xec\\x8b\\xa0\\xeb\\x9d\\xbc\\xeb\\xa9\\xb4\",\"formatted\":{\"value\":\"\\xec\\x8b\\xa0\\xeb\\x9d\\xbc\\xeb\\xa9\\xb4\"},\"keyText\":\"\",\"confidenceScore\":0.93068,\"boundingPolys\":[{\"vertices\":[{\"x\":112.0,\"y\":624.0},{\"x\":213.0,\"y\":624.0},{\"x\":213.0,\"y\":660.0},{\"x\":112.0,\"y\":660.0}]}],\"maskingPolys\":[]},\"code\":{\"text\":\"000025\",\"keyText\":\"\",\"confidenceScore\":0.9153,\"boundingPolys\":[{\"vertices\":[{\"x\":105.0,\"y\":663.0},{\"x\":217.0,\"y\":663.0},{\"x\":217.0,\"y\":694.0},{\"x\":105.0,\"y\":694.0}]}]},\"count\":{\"text\":\"1\",\"formatted\":{\"value\":\"1\"},\"keyText\":\"\",\"confidenceScore\":0.96628,\"boundingPolys\":[{\"vertices\":[{\"x\":588.0,\"y\":666.0},{\"x\":603.0,\"y\":666.0},{\"x\":603.0,\"y\":684.0},{\"x\":588.0,\"y\":684.0}]}]},\"price\":{\"price\":{\"text\":\"4,500\",\"formatted\":{\"value\":\"4500\"},\"keyText\":\"\",\"confidenceScore\":0.95208,\"boundingPolys\":[{\"vertices\":[{\"x\":684.0,\"y\":661.0},{\"x\":760.0,\"y\":661.0},{\"x\":760.0,\"y\":687.0},{\"x\":684.0,\"y\":687.0}]}]},\"unitPrice\":{\"text\":\"4,500\",\"formatted\":{\"value\":\"4500\"},\"keyText\":\"\",\"confidenceScore\":0.96731,\"boundingPolys\":[{\"vertices\":[{\"x\":453.0,\"y\":663.0},{\"x\":535.0,\"y\":663.0},{\"x\":535.0,\"y\":692.0},{\"x\":453.0,\"y\":692.0}]}]}}},{\"name\":{\"text\":\"\\xeb\\x8f\\x88\\xea\\xb9\\x8c\\xec\\x8a\\xa4\",\"formatted\":{\"value\":\"\\xeb\\x8f\\x88\\xea\\xb9\\x8c\\xec\\x8a\\xa4\"},\"keyText\":\"\",\"confidenceScore\":0.95647,\"boundingPolys\":[{\"vertices\":[{\"x\":114.0,\"y\":773.0},{\"x\":217.0,\"y\":771.0},{\"x\":218.0,\"y\":809.0},{\"x\":115.0,\"y\":810.0}]}],\"maskingPolys\":[]},\"code\":{\"text\":\"000107\",\"keyText\":\"\",\"confidenceScore\":0.90622,\"boundingPolys\":[{\"vertices\":[{\"x\":109.0,\"y\":815.0},{\"x\":221.0,\"y\":811.0},{\"x\":222.0,\"y\":843.0},{\"x\":110.0,\"y\":847.0}]}]},\"count\":{\"text\":\"1\",\"formatted\":{\"value\":\"1\"},\"keyText\":\"\",\"confidenceScore\":0.96747,\"boundingPolys\":[{\"vertices\":[{\"x\":598.0,\"y\":800.0},{\"x\":617.0,\"y\":800.0},{\"x\":617.0,\"y\":825.0},{\"x\":598.0,\"y\":825.0}]}]},\"price\":{\"price\":{\"text\":\"8,000\",\"formatted\":{\"value\":\"8000\"},\"keyText\":\"\",\"confidenceScore\":0.94699,\"boundingPolys\":[{\"vertices\":[{\"x\":695.0,\"y\":796.0},{\"x\":772.0,\"y\":793.0},{\"x\":774.0,\"y\":823.0},{\"x\":696.0,\"y\":826.0}]}]},\"unitPrice\":{\"text\":\"8,000\",\"formatted\":{\"value\":\"8000\"},\"keyText\":\"\",\"confidenceScore\":0.97143,\"boundingPolys\":[{\"vertices\":[{\"x\":458.0,\"y\":800.0},{\"x\":543.0,\"y\":800.0},{\"x\":543.0,\"y\":832.0},{\"x\":458.0,\"y\":832.0}]}]}}},{\"name\":{\"text\":\"\\xec\\xb9\\x98\\xec\\xa6\\x88\\xeb\\x8f\\x88\\xea\\xb9\\x8c\\xec\\x8a\\xa4\",\"formatted\":{\"value\":\"\\xec\\xb9\\x98\\xec\\xa6\\x88\\xeb\\x8f\\x88\\xea\\xb9\\x8c\\xec\\x8a\\xa4\"},\"keyText\":\"\",\"confidenceScore\":0.95462,\"boundingPolys\":[{\"vertices\":[{\"x\":116.0,\"y\":848.0},{\"x\":285.0,\"y\":844.0},{\"x\":286.0,\"y\":882.0},{\"x\":117.0,\"y\":886.0}]}],\"maskingPolys\":[]},\"code\":{\"text\":\"000110\",\"keyText\":\"\",\"confidenceScore\":0.8832,\"boundingPolys\":[{\"vertices\":[{\"x\":112.0,\"y\":889.0},{\"x\":225.0,\"y\":887.0},{\"x\":226.0,\"y\":922.0},{\"x\":113.0,\"y\":924.0}]}]},\"count\":{\"text\":\"2\",\"formatted\":{\"value\":\"2\"},\"keyText\":\"\",\"confidenceScore\":0.96483,\"boundingPolys\":[{\"vertices\":[{\"x\":598.0,\"y\":872.0},{\"x\":618.0,\"y\":872.0},{\"x\":618.0,\"y\":897.0},{\"x\":598.0,\"y\":897.0}]}]},\"price\":{\"price\":{\"text\":\"17,000\",\"formatted\":{\"value\":\"17000\"},\"keyText\":\"\",\"confidenceScore\":0.95479,\"boundingPolys\":[{\"vertices\":[{\"x\":685.0,\"y\":864.0},{\"x\":777.0,\"y\":864.0},{\"x\":777.0,\"y\":894.0},{\"x\":685.0,\"y\":894.0}]}]},\"unitPrice\":{\"text\":\"8,500\",\"formatted\":{\"value\":\"8500\"},\"keyText\":\"\",\"confidenceScore\":0.96826,\"boundingPolys\":[{\"vertices\":[{\"x\":458.0,\"y\":874.0},{\"x\":545.0,\"y\":872.0},{\"x\":546.0,\"y\":904.0},{\"x\":459.0,\"y\":905.0}]}]}}},{\"name\":{\"text\":\"\\xeb\\x8f\\x88\\xea\\xb9\\x8c\\xec\\x8a\\xa4\\xec\\xa0\\x95\\xec\\x8b\\x9d [1]\",\"formatted\":{\"value\":\"\\xeb\\x8f\\x88\\xea\\xb9\\x8c\\xec\\x8a\\xa4\\xec\\xa0\\x95\\xec\\x8b\\x9d[1]\"},\"keyText\":\"\",\"confidenceScore\":0.92445,\"boundingPolys\":[{\"vertices\":[{\"x\":119.0,\"y\":926.0},{\"x\":242.0,\"y\":921.0},{\"x\":243.0,\"y\":958.0},{\"x\":120.0,\"y\":963.0}]},{\"vertices\":[{\"x\":266.0,\"y\":920.0},{\"x\":340.0,\"y\":917.0},{\"x\":342.0,\"y\":954.0},{\"x\":268.0,\"y\":957.0}]}],\"maskingPolys\":[]},\"code\":{\"text\":\"000115\",\"keyText\":\"\",\"confidenceScore\":0.89915,\"boundingPolys\":[{\"vertices\":[{\"x\":113.0,\"y\":965.0},{\"x\":226.0,\"y\":962.0},{\"x\":227.0,\"y\":995.0},{\"x\":113.0,\"y\":998.0}]}]},\"count\":{\"text\":\"2\",\"formatted\":{\"value\":\"2\"},\"keyText\":\"\",\"confidenceScore\":0.96563,\"boundingPolys\":[{\"vertices\":[{\"x\":599.0,\"y\":942.0},{\"x\":620.0,\"y\":942.0},{\"x\":620.0,\"y\":969.0},{\"x\":599.0,\"y\":969.0}]}]},\"price\":{\"price\":{\"text\":\"20,000\",\"formatted\":{\"value\":\"20000\"},\"keyText\":\"\",\"confidenceScore\":0.961,\"boundingPolys\":[{\"vertices\":[{\"x\":684.0,\"y\":937.0},{\"x\":780.0,\"y\":931.0},{\"x\":782.0,\"y\":960.0},{\"x\":686.0,\"y\":966.0}]}]},\"unitPrice\":{\"text\":\"10,000\",\"formatted\":{\"value\":\"10000\"},\"keyText\":\"\",\"confidenceScore\":0.96949,\"boundingPolys\":[{\"vertices\":[{\"x\":447.0,\"y\":947.0},{\"x\":547.0,\"y\":944.0},{\"x\":548.0,\"y\":976.0},{\"x\":448.0,\"y\":979.0}]}]}}},{\"name\":{\"text\":\"\\xec\\x9a\\xb0\\xeb\\x8f\\x99\\xec\\xa0\\x95\\xec\\x8b\\x9d\",\"formatted\":{\"value\":\"\\xec\\x9a\\xb0\\xeb\\x8f\\x99\\xec\\xa0\\x95\\xec\\x8b\\x9d\"},\"keyText\":\"\",\"confidenceScore\":0.95673,\"boundingPolys\":[{\"vertices\":[{\"x\":111.0,\"y\":697.0},{\"x\":248.0,\"y\":697.0},{\"x\":248.0,\"y\":735.0},{\"x\":111.0,\"y\":735.0}]}],\"maskingPolys\":[]},\"code\":{\"text\":\"000059\",\"keyText\":\"\",\"confidenceScore\":0.92185,\"boundingPolys\":[{\"vertices\":[{\"x\":105.0,\"y\":740.0},{\"x\":218.0,\"y\":738.0},{\"x\":219.0,\"y\":767.0},{\"x\":106.0,\"y\":770.0}]}]},\"price\":{\"price\":{\"text\":\"9,000\",\"formatted\":{\"value\":\"9000\"},\"keyText\":\"\",\"confidenceScore\":0.93979,\"boundingPolys\":[{\"vertices\":[{\"x\":693.0,\"y\":725.0},{\"x\":770.0,\"y\":725.0},{\"x\":770.0,\"y\":753.0},{\"x\":693.0,\"y\":753.0}]}]},\"unitPrice\":{\"text\":\"9,000\",\"formatted\":{\"value\":\"9000\"},\"keyText\":\"\",\"confidenceScore\":0.97165,\"boundingPolys\":[{\"vertices\":[{\"x\":456.0,\"y\":733.0},{\"x\":542.0,\"y\":730.0},{\"x\":543.0,\"y\":759.0},{\"x\":457.0,\"y\":762.0}]}]}}}]}],\"totalPrice\":{\"price\":{\"text\":\"62,500\",\"formatted\":{\"value\":\"62500\"},\"keyText\":\"\\xeb\\xb0\\x9b\\xec\\x9d\\x84 \\xea\\xb8\\x88\\xec\\x95\\xa1\",\"confidenceScore\":0.82815,\"boundingPolys\":[{\"vertices\":[{\"x\":683.0,\"y\":1182.0},{\"x\":790.0,\"y\":1175.0},{\"x\":794.0,\"y\":1235.0},{\"x\":687.0,\"y\":1242.0}]}]}},\"subTotal\":[{\"taxPrice\":[{\"text\":\"5,680\",\"formatted\":{\"value\":\"5680\"},\"keyText\":\"\\xeb\\xb6\\x80 \\xea\\xb0\\x80 \\xec\\x84\\xb8\",\"confidenceScore\":0.95792,\"boundingPolys\":[{\"vertices\":[{\"x\":704.0,\"y\":1111.0},{\"x\":785.0,\"y\":1106.0},{\"x\":787.0,\"y\":1135.0},{\"x\":706.0,\"y\":1140.0}]}]}]}]}},\"uid\":\"a258550b3bb542a6908ca71b96b6e2b4\",\"name\":\"demo\",\"inferResult\":\"SUCCESS\",\"message\":\"SUCCESS\",\"validationResult\":{\"result\":\"NO_REQUESTED\"}}]}'\n",
      "\n",
      "참치김밥\n",
      "신라면\n",
      "돈까스\n",
      "치즈돈까스\n",
      "돈까스정식 [1]\n",
      "우동정식\n"
     ]
    }
   ],
   "source": [
    "import requests\n",
    "import uuid\n",
    "import time\n",
    "import json\n",
    "import os\n",
    "\n",
    "BASE_DIR = \"../BP_Api_File/\"\n",
    "\n",
    "secret_file = os.path.join(BASE_DIR, 'secrets.json')\n",
    "\n",
    "with open(secret_file) as f:\n",
    "    secrets = json.loads(f.read())\n",
    "\n",
    "def get_secret(setting, secrets=secrets):\n",
    "    try:\n",
    "        return secrets[setting]\n",
    "    except KeyError:\n",
    "        error_msg = \"Set the {} environment variable\".format(setting)\n",
    "\n",
    "api_url = get_secret('CLOVA_OCR_Invoke_URL')\n",
    "secret_key = get_secret('naver_secret_key')\n",
    "image_file = '/data/BP/BP_Api_File/not_food_img/not_food_test6.jpg'\n",
    "\n",
    "request_json = {\n",
    "    'images': [\n",
    "        {\n",
    "            'format': 'jpg',\n",
    "            'name': 'demo'\n",
    "        }\n",
    "    ],\n",
    "    'requestId': str(uuid.uuid4()),\n",
    "    'version': 'V2',\n",
    "    'timestamp': int(round(time.time() * 1000))\n",
    "}\n",
    "\n",
    "payload = {'message': json.dumps(request_json).encode('UTF-8')}\n",
    "files = [\n",
    "  ('file', open(image_file,'rb'))\n",
    "]\n",
    "headers = {\n",
    "  'X-OCR-SECRET': secret_key\n",
    "}\n",
    "\n",
    "response = requests.request(\"POST\", api_url, headers=headers, data = payload, files = files)\n",
    "\n",
    "print(response.text.encode('utf8'))\n",
    "\n",
    "result = response.json()\n",
    "\n",
    "with open('result_notfood_2.json', 'w', encoding='utf-8') as make_file:\n",
    "    json.dump(result, make_file, indent=\"\\t\", ensure_ascii=False)\n",
    "\n",
    "text = \"\"\n",
    "for field in result['images'][0]['receipt']['result']['subResults'][0]['items']:\n",
    "    text += \"\\n\"+field['name']['text']\n",
    "print(text)"
   ]
  },
  {
   "cell_type": "code",
   "execution_count": 39,
   "metadata": {},
   "outputs": [
    {
     "name": "stdout",
     "output_type": "stream",
     "text": [
      "빅치킨마요\n"
     ]
    }
   ],
   "source": [
    "text = \"\"\n",
    "for field in result['images'][0]['receipt']['result']['subResults'][0]['items']:\n",
    "    text += field['name']['text']\n",
    "print(text)"
   ]
  },
  {
   "cell_type": "code",
   "execution_count": 38,
   "metadata": {},
   "outputs": [
    {
     "data": {
      "text/plain": [
       "str"
      ]
     },
     "execution_count": 38,
     "metadata": {},
     "output_type": "execute_result"
    }
   ],
   "source": [
    "type(result['images'][0]['receipt']['result']['subResults'][0]['items'][0]['name']['text'])"
   ]
  },
  {
   "cell_type": "markdown",
   "metadata": {},
   "source": [
    "check point"
   ]
  },
  {
   "cell_type": "code",
   "execution_count": null,
   "metadata": {},
   "outputs": [],
   "source": []
  }
 ],
 "metadata": {
  "kernelspec": {
   "display_name": "dev_torch",
   "language": "python",
   "name": "python3"
  },
  "language_info": {
   "codemirror_mode": {
    "name": "ipython",
    "version": 3
   },
   "file_extension": ".py",
   "mimetype": "text/x-python",
   "name": "python",
   "nbconvert_exporter": "python",
   "pygments_lexer": "ipython3",
   "version": "3.11.0"
  }
 },
 "nbformat": 4,
 "nbformat_minor": 2
}
