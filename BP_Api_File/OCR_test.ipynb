{
 "cells": [
  {
   "cell_type": "code",
   "execution_count": 1,
   "metadata": {},
   "outputs": [
    {
     "name": "stdout",
     "output_type": "stream",
     "text": [
      "b'{\"version\":\"V2\",\"requestId\":\"a9233547-d491-4846-b7d6-3cfe310af2a2\",\"timestamp\":1703726600337,\"images\":[{\"receipt\":{\"meta\":{\"estimatedLanguage\":\"ko\"},\"result\":{\"storeInfo\":{\"name\":{\"text\":\"\\xeb\\xa5\\xb4\\xed\\x95\\x98\\xec\\x9e\\x84\\xec\\x8a\\xa4\\xed\\x84\\xb0\\xeb\\x94\\x94\\xec\\xb9\\xb4\\xed\\x8e\\x98\",\"formatted\":{\"value\":\"\\xeb\\xa5\\xb4\\xed\\x95\\x98\\xec\\x9e\\x84\\xec\\x8a\\xa4\\xed\\x84\\xb0\\xeb\\x94\\x94\\xec\\xb9\\xb4\\xed\\x8e\\x98\"},\"keyText\":\"\\xea\\xb0\\x80\\xeb\\xa7\\xb9\\xec\\xa0\\x90\\xeb\\xaa\\x85\",\"confidenceScore\":0.95034,\"boundingPolys\":[{\"vertices\":[{\"x\":466.0,\"y\":348.0},{\"x\":663.0,\"y\":351.0},{\"x\":662.0,\"y\":384.0},{\"x\":466.0,\"y\":381.0}]}],\"maskingPolys\":[]},\"subName\":{\"text\":\"\\xeb\\xb6\\x80\\xec\\x82\\xb0\\xeb\\xa7\\x9d\\xeb\\xaf\\xb8\\xec\\xa0\\x90\",\"keyText\":\"\",\"confidenceScore\":0.92417,\"boundingPolys\":[{\"vertices\":[{\"x\":669.0,\"y\":351.0},{\"x\":794.0,\"y\":351.0},{\"x\":794.0,\"y\":385.0},{\"x\":669.0,\"y\":385.0}]}],\"maskingPolys\":[]},\"addresses\":[{\"text\":\"\\xeb\\xb6\\x80\\xec\\x82\\xb0\\xea\\xb4\\x91\\xec\\x97\\xad\\xec\\x8b\\x9c \\xec\\x88\\x98\\xec\\x98\\x81\\xea\\xb5\\xac \\xea\\xb3\\xbc\\xec\\xa0\\x95\\xeb\\xa1\\x9c 63 \\xeb\\xa7\\x9d \\xeb\\xaf\\xb8\\xec\\x84\\xbc\\xed\\x85\\x80 4\\xec\\xb8\\xb5\",\"formatted\":{\"value\":\"\\xeb\\xb6\\x80\\xec\\x82\\xb0\\xea\\xb4\\x91\\xec\\x97\\xad\\xec\\x8b\\x9c \\xec\\x88\\x98\\xec\\x98\\x81\\xea\\xb5\\xac \\xea\\xb3\\xbc\\xec\\xa0\\x95\\xeb\\xa1\\x9c 63 \\xeb\\xa7\\x9d \\xeb\\xaf\\xb8\\xec\\x84\\xbc\\xed\\x85\\x80 4\\xec\\xb8\\xb5\"},\"keyText\":\"\\xec\\xa3\\xbc \\xec\\x86\\x8c:\",\"confidenceScore\":0.92462,\"boundingPolys\":[{\"vertices\":[{\"x\":466.0,\"y\":410.0},{\"x\":590.0,\"y\":410.0},{\"x\":590.0,\"y\":442.0},{\"x\":466.0,\"y\":442.0}]},{\"vertices\":[{\"x\":596.0,\"y\":410.0},{\"x\":672.0,\"y\":410.0},{\"x\":672.0,\"y\":442.0},{\"x\":596.0,\"y\":442.0}]},{\"vertices\":[{\"x\":676.0,\"y\":411.0},{\"x\":755.0,\"y\":411.0},{\"x\":755.0,\"y\":444.0},{\"x\":676.0,\"y\":444.0}]},{\"vertices\":[{\"x\":756.0,\"y\":414.0},{\"x\":790.0,\"y\":414.0},{\"x\":790.0,\"y\":439.0},{\"x\":756.0,\"y\":439.0}]},{\"vertices\":[{\"x\":795.0,\"y\":412.0},{\"x\":825.0,\"y\":412.0},{\"x\":825.0,\"y\":444.0},{\"x\":795.0,\"y\":444.0}]},{\"vertices\":[{\"x\":265.0,\"y\":439.0},{\"x\":344.0,\"y\":439.0},{\"x\":344.0,\"y\":469.0},{\"x\":265.0,\"y\":469.0}]},{\"vertices\":[{\"x\":345.0,\"y\":439.0},{\"x\":390.0,\"y\":439.0},{\"x\":390.0,\"y\":468.0},{\"x\":345.0,\"y\":468.0}]}],\"maskingPolys\":[]}],\"tel\":[{\"text\":\"01057018642\",\"formatted\":{\"value\":\"01057018642\"},\"keyText\":\"\\xec\\xa0\\x84\\xed\\x99\\x94\\xeb\\xb2\\x88\\xed\\x98\\xb8\",\"confidenceScore\":0.9302,\"boundingPolys\":[{\"vertices\":[{\"x\":465.0,\"y\":380.0},{\"x\":602.0,\"y\":382.0},{\"x\":601.0,\"y\":407.0},{\"x\":465.0,\"y\":405.0}]}]}]},\"paymentInfo\":{\"cardInfo\":{\"company\":{\"text\":\"\\xeb\\xa1\\xaf\\xeb\\x8d\\xb0\\xec\\xb9\\xb4\\xeb\\x93\\x9c\\xec\\x82\\xac\",\"formatted\":{\"value\":\"\\xeb\\xa1\\xaf\\xeb\\x8d\\xb0\\xec\\xb9\\xb4\\xeb\\x93\\x9c\\xec\\x82\\xac\"},\"keyText\":\"\\xec\\xb9\\xb4 \\xeb\\x93\\x9c \\xec\\x82\\xac\",\"confidenceScore\":0.90842,\"boundingPolys\":[{\"vertices\":[{\"x\":468.0,\"y\":524.0},{\"x\":588.0,\"y\":524.0},{\"x\":588.0,\"y\":551.0},{\"x\":468.0,\"y\":551.0}]}],\"maskingPolys\":[]},\"number\":{\"text\":\"5137920000000000****\",\"formatted\":{\"value\":\"5137920000000000****\"},\"keyText\":\"\\xec\\xb9\\xb4\\xeb\\x93\\x9c\\xeb\\xb2\\x88\\xed\\x98\\xb8:\",\"confidenceScore\":0.88703,\"boundingPolys\":[{\"vertices\":[{\"x\":465.0,\"y\":552.0},{\"x\":705.0,\"y\":552.0},{\"x\":705.0,\"y\":574.0},{\"x\":465.0,\"y\":574.0}]}],\"maskingPolys\":[]}}},\"subResults\":[{\"items\":[{\"name\":{\"text\":\"(\\xec\\xa0\\x95\\xec\\x95\\xa1\\xea\\xb6\\x8c) 50: 00\",\"formatted\":{\"value\":\"(\\xec\\xa0\\x95\\xec\\x95\\xa1\\xea\\xb6\\x8c)50: 00\"},\"keyText\":\"\",\"confidenceScore\":0.47716,\"boundingPolys\":[{\"vertices\":[{\"x\":305.0,\"y\":660.0},{\"x\":408.0,\"y\":660.0},{\"x\":408.0,\"y\":691.0},{\"x\":305.0,\"y\":691.0}]},{\"vertices\":[{\"x\":415.0,\"y\":662.0},{\"x\":452.0,\"y\":662.0},{\"x\":452.0,\"y\":688.0},{\"x\":415.0,\"y\":688.0}]},{\"vertices\":[{\"x\":451.0,\"y\":662.0},{\"x\":482.0,\"y\":662.0},{\"x\":482.0,\"y\":689.0},{\"x\":451.0,\"y\":689.0}]}],\"maskingPolys\":[]},\"price\":{\"price\":{\"text\":\"60,000\",\"formatted\":{\"value\":\"60000\"},\"keyText\":\"\",\"confidenceScore\":0.85618,\"boundingPolys\":[{\"vertices\":[{\"x\":582.0,\"y\":662.0},{\"x\":664.0,\"y\":662.0},{\"x\":664.0,\"y\":691.0},{\"x\":582.0,\"y\":691.0}]}]}}}]}],\"totalPrice\":{\"price\":{\"text\":\"60,000\",\"formatted\":{\"value\":\"60000\"},\"keyText\":\"\\xed\\x95\\xa9\\xea\\xb3\\x84\\xea\\xb8\\x88\\xec\\x95\\xa1\",\"confidenceScore\":0.9458,\"boundingPolys\":[{\"vertices\":[{\"x\":726.0,\"y\":722.0},{\"x\":810.0,\"y\":722.0},{\"x\":810.0,\"y\":750.0},{\"x\":726.0,\"y\":750.0}]}]}},\"subTotal\":[]}},\"uid\":\"b0772ae9b7514ebcaa98fee0e4d7b7df\",\"name\":\"demo\",\"inferResult\":\"SUCCESS\",\"message\":\"SUCCESS\",\"validationResult\":{\"result\":\"NO_REQUESTED\"}}]}'\n",
      "(정액권) 50: 00\n"
     ]
    }
   ],
   "source": [
    "import requests\n",
    "import uuid\n",
    "import time\n",
    "import json\n",
    "import os\n",
    "\n",
    "BASE_DIR = \"../BP_Api_File/\"\n",
    "\n",
    "secret_file = os.path.join(BASE_DIR, 'secrets.json')\n",
    "\n",
    "with open(secret_file) as f:\n",
    "    secrets = json.loads(f.read())\n",
    "\n",
    "def get_secret(setting, secrets=secrets):\n",
    "    try:\n",
    "        return secrets[setting]\n",
    "    except KeyError:\n",
    "        error_msg = \"Set the {} environment variable\".format(setting)\n",
    "\n",
    "api_url = get_secret('CLOVA_OCR_Invoke_URL')\n",
    "secret_key = get_secret('naver_secret_key')\n",
    "image_file = '/data/BP/BP_Api_File/not_food_img/not_food4.jpg'\n",
    "\n",
    "request_json = {\n",
    "    'images': [\n",
    "        {\n",
    "            'format': 'jpg',\n",
    "            'name': 'demo'\n",
    "        }\n",
    "    ],\n",
    "    'requestId': str(uuid.uuid4()),\n",
    "    'version': 'V2',\n",
    "    'timestamp': int(round(time.time() * 1000))\n",
    "}\n",
    "\n",
    "payload = {'message': json.dumps(request_json).encode('UTF-8')}\n",
    "files = [\n",
    "  ('file', open(image_file,'rb'))\n",
    "]\n",
    "headers = {\n",
    "  'X-OCR-SECRET': secret_key\n",
    "}\n",
    "\n",
    "response = requests.request(\"POST\", api_url, headers=headers, data = payload, files = files)\n",
    "\n",
    "print(response.text.encode('utf8'))\n",
    "\n",
    "result = response.json()\n",
    "\n",
    "with open('result_notfood_2.json', 'w', encoding='utf-8') as make_file:\n",
    "    json.dump(result, make_file, indent=\"\\t\", ensure_ascii=False)\n",
    "\n",
    "text = \"\"\n",
    "for field in result['images'][0]['receipt']['result']['subResults'][0]['items']:\n",
    "    text += field['name']['text']\n",
    "print(text)"
   ]
  },
  {
   "cell_type": "code",
   "execution_count": 39,
   "metadata": {},
   "outputs": [
    {
     "name": "stdout",
     "output_type": "stream",
     "text": [
      "빅치킨마요\n"
     ]
    }
   ],
   "source": [
    "text = \"\"\n",
    "for field in result['images'][0]['receipt']['result']['subResults'][0]['items']:\n",
    "    text += field['name']['text']\n",
    "print(text)"
   ]
  },
  {
   "cell_type": "code",
   "execution_count": 38,
   "metadata": {},
   "outputs": [
    {
     "data": {
      "text/plain": [
       "str"
      ]
     },
     "execution_count": 38,
     "metadata": {},
     "output_type": "execute_result"
    }
   ],
   "source": [
    "type(result['images'][0]['receipt']['result']['subResults'][0]['items'][0]['name']['text'])"
   ]
  },
  {
   "cell_type": "code",
   "execution_count": null,
   "metadata": {},
   "outputs": [],
   "source": []
  }
 ],
 "metadata": {
  "kernelspec": {
   "display_name": "dev_torch",
   "language": "python",
   "name": "python3"
  },
  "language_info": {
   "codemirror_mode": {
    "name": "ipython",
    "version": 3
   },
   "file_extension": ".py",
   "mimetype": "text/x-python",
   "name": "python",
   "nbconvert_exporter": "python",
   "pygments_lexer": "ipython3",
   "version": "3.11.0"
  }
 },
 "nbformat": 4,
 "nbformat_minor": 2
}
